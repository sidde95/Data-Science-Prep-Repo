{
  "nbformat": 4,
  "nbformat_minor": 0,
  "metadata": {
    "colab": {
      "provenance": [],
      "authorship_tag": "ABX9TyNDekmBDm3N40g4EIbSR+Xm",
      "include_colab_link": true
    },
    "kernelspec": {
      "name": "python3",
      "display_name": "Python 3"
    },
    "language_info": {
      "name": "python"
    }
  },
  "cells": [
    {
      "cell_type": "markdown",
      "metadata": {
        "id": "view-in-github",
        "colab_type": "text"
      },
      "source": [
        "<a href=\"https://colab.research.google.com/github/sidde95/Data-Science-Prep-Repo/blob/main/Python_Data_Structure.ipynb\" target=\"_parent\"><img src=\"https://colab.research.google.com/assets/colab-badge.svg\" alt=\"Open In Colab\"/></a>"
      ]
    },
    {
      "cell_type": "markdown",
      "source": [
        "##1. Discuss string slicing and provider examples\n"
      ],
      "metadata": {
        "id": "L6Qa0hEHGvzw"
      }
    },
    {
      "cell_type": "markdown",
      "source": [
        "String slicing is a technique used in Python to extract a part of a string using specific syntyax. The basic syntax for slicing is:\n",
        "\n",
        "`string[start:stop:step]`\n",
        "\n",
        "- start: The index where the slice starts(inclusive)\n",
        "- stop: The index where the slice ends (exclusive)\n",
        "- step: The interval between the characters in the slice\n",
        "\n",
        "**Basic Slicing**"
      ],
      "metadata": {
        "id": "6KTufGmTHrxm"
      }
    },
    {
      "cell_type": "code",
      "source": [
        "a = \"Hello, World!\"\n",
        "print(a[0:5])"
      ],
      "metadata": {
        "colab": {
          "base_uri": "https://localhost:8080/"
        },
        "id": "LQr9mw9OU3Xq",
        "outputId": "e7b03911-5d36-4e7c-cf98-65e0dd758217"
      },
      "execution_count": null,
      "outputs": [
        {
          "output_type": "stream",
          "name": "stdout",
          "text": [
            "Hello\n"
          ]
        }
      ]
    },
    {
      "cell_type": "markdown",
      "source": [
        "**Omitting Start and Stop**"
      ],
      "metadata": {
        "id": "3FuCBq3JU6_N"
      }
    },
    {
      "cell_type": "code",
      "source": [
        "a = \"Hello, World!\"\n",
        "print(a[:5])\n",
        "print(a[7:])"
      ],
      "metadata": {
        "colab": {
          "base_uri": "https://localhost:8080/"
        },
        "id": "X0JBat0EVG-b",
        "outputId": "59c329dd-8fe5-4819-8de0-24fd38139ffe"
      },
      "execution_count": null,
      "outputs": [
        {
          "output_type": "stream",
          "name": "stdout",
          "text": [
            "Hello\n",
            "World!\n"
          ]
        }
      ]
    },
    {
      "cell_type": "markdown",
      "source": [
        "**Negetive Index**"
      ],
      "metadata": {
        "id": "MeC-Za9xVVrc"
      }
    },
    {
      "cell_type": "code",
      "source": [
        "a = \"Hello, World!\"\n",
        "print(a[-6:-2])\n",
        "print(a[-6:])"
      ],
      "metadata": {
        "colab": {
          "base_uri": "https://localhost:8080/"
        },
        "id": "crMmUMP2VdY0",
        "outputId": "05494a08-59be-4a71-ec23-947345ef8a6d"
      },
      "execution_count": null,
      "outputs": [
        {
          "output_type": "stream",
          "name": "stdout",
          "text": [
            "Worl\n",
            "World!\n"
          ]
        }
      ]
    },
    {
      "cell_type": "markdown",
      "source": [
        "**Using Step**"
      ],
      "metadata": {
        "id": "buxcw90yVmbE"
      }
    },
    {
      "cell_type": "code",
      "source": [
        "a = \"Hello, World!\"\n",
        "print(a[::2])"
      ],
      "metadata": {
        "colab": {
          "base_uri": "https://localhost:8080/"
        },
        "id": "pSPeMMY8V9Bk",
        "outputId": "e9f7d6d8-2bdd-4dbb-dfd8-ea910ad76d73"
      },
      "execution_count": null,
      "outputs": [
        {
          "output_type": "stream",
          "name": "stdout",
          "text": [
            "Hlo ol!\n"
          ]
        }
      ]
    },
    {
      "cell_type": "markdown",
      "source": [
        "**Reversing a string**"
      ],
      "metadata": {
        "id": "lp8nNy8TV-zU"
      }
    },
    {
      "cell_type": "code",
      "source": [
        "a = \"Hello, World!\"\n",
        "print(a[::-1])"
      ],
      "metadata": {
        "colab": {
          "base_uri": "https://localhost:8080/"
        },
        "id": "OOG4zOf5WR17",
        "outputId": "070e0bf5-44c2-4d9d-f763-0ab343e7f744"
      },
      "execution_count": null,
      "outputs": [
        {
          "output_type": "stream",
          "name": "stdout",
          "text": [
            "!dlroW ,olleH\n"
          ]
        }
      ]
    },
    {
      "cell_type": "markdown",
      "source": [
        "**Slicing with step**"
      ],
      "metadata": {
        "id": "nbTHdZ27WT32"
      }
    },
    {
      "cell_type": "code",
      "source": [
        "a = \"Hello, World!\"\n",
        "print(a[:5:2])"
      ],
      "metadata": {
        "colab": {
          "base_uri": "https://localhost:8080/"
        },
        "id": "kDZsqfh_WYul",
        "outputId": "7e7172bf-9d73-4bc0-e9f2-bdfa35e3f0dc"
      },
      "execution_count": null,
      "outputs": [
        {
          "output_type": "stream",
          "name": "stdout",
          "text": [
            "Hlo\n"
          ]
        }
      ]
    },
    {
      "cell_type": "markdown",
      "source": [
        "##2. Explain the key features of lists in Pyhton."
      ],
      "metadata": {
        "id": "3ZF0bAxhWbxd"
      }
    },
    {
      "cell_type": "markdown",
      "source": [
        "1. **Ordered**: Lists mainatain the order of elements. The order in which you add elements to a list is the order in which they are stored or accessed.\n",
        "\n",
        "2. **Mutable**: Lists are mutable meaning you can change their identity. You can modify elements, append new elements or remove elements.\n",
        "\n",
        "3. **Heterogenous Elements**: Lists can contain elements of different types including numbers, strings and other lists.\n",
        "\n",
        "4. **Dynamic Size**: Lists can grow or shrink in size as needed. We can add or remove elements as needed\n",
        "\n",
        "5. **Indexed Access**: We can access elements by their index starting from 0 for the first element.\n",
        "\n",
        "6. **Slicing**: Lists support slicing, allowing you to create a new list from a subset of elements.\n",
        "\n",
        "7. **Built - In Methods**: Lists come with a variety of builtin methods for common operations such as adding, removing, and searhcing for elements.\n",
        "\n",
        "8. **Iterations**: We can iterate over the elements of a list using a loop.\n",
        "\n",
        "9. **Comprehensions**: List comprehensions provide a concise war to create lists\n",
        "\n",
        "10. **Support nested lists**: Lists can contain other lists, allowing for the creation for a multi-dimensional data structure like matrices."
      ],
      "metadata": {
        "id": "oaKkvqsUWpZd"
      }
    },
    {
      "cell_type": "markdown",
      "source": [
        "##3. Describe how to access, modify and delete elements in a list with examples."
      ],
      "metadata": {
        "id": "wQt3UXApdbGT"
      }
    },
    {
      "cell_type": "markdown",
      "source": [
        "Accessing, modifying and deleting elements in a list are fundamental operations in Python.\n",
        "\n",
        "**1. Accessing Elements**\n",
        "\n",
        "Accessing elements in a list is done using the index of the elements within square brackets `[]`\n",
        "\n",
        "Example:"
      ],
      "metadata": {
        "id": "lB5TDUETdlCk"
      }
    },
    {
      "cell_type": "code",
      "source": [
        "my_list = [10, 20, 30, 40, 50]\n",
        "\n",
        "print(my_list[0])\n",
        "print(my_list[2])"
      ],
      "metadata": {
        "colab": {
          "base_uri": "https://localhost:8080/"
        },
        "id": "Yi3Awy1_1Nqj",
        "outputId": "7f0faf36-455c-45e2-cdb6-ff12c88d54df"
      },
      "execution_count": null,
      "outputs": [
        {
          "output_type": "stream",
          "name": "stdout",
          "text": [
            "10\n",
            "30\n"
          ]
        }
      ]
    },
    {
      "cell_type": "markdown",
      "source": [
        "**2. Modifying Elements**: To modify Elements in a list, assign a new value to the desired index\n",
        "\n",
        "Example:"
      ],
      "metadata": {
        "id": "KB9YhZt21bYF"
      }
    },
    {
      "cell_type": "code",
      "source": [
        "my_list = [10, 20, 30, 40, 50]\n",
        "\n",
        "my_list[1] = 200\n",
        "print(my_list)\n",
        "\n",
        "my_list[-1] = 500\n",
        "print(my_list)"
      ],
      "metadata": {
        "colab": {
          "base_uri": "https://localhost:8080/"
        },
        "id": "bA8V63RI12YP",
        "outputId": "aeb5cdab-85ce-4ab4-e8c4-e456ddd6a4d6"
      },
      "execution_count": null,
      "outputs": [
        {
          "output_type": "stream",
          "name": "stdout",
          "text": [
            "[10, 200, 30, 40, 50]\n",
            "[10, 200, 30, 40, 500]\n"
          ]
        }
      ]
    },
    {
      "cell_type": "markdown",
      "source": [
        "**3. Deleting elements**\n",
        "\n",
        "There are a few ways to delete elements from a list:\n",
        "\n",
        "- Using `del` keyword: Deletes an element or slice from a list.\n",
        "- Using `pop` method: Removes and returns the elements at a specified index(default is the last element)"
      ],
      "metadata": {
        "id": "GIPS4IQp2EKs"
      }
    }
  ]
}